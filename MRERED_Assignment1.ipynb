{
 "cells": [
  {
   "cell_type": "code",
   "execution_count": 1,
   "metadata": {},
   "outputs": [],
   "source": [
    "#import dependencies \n",
    "import pandas as pd\n",
    "import matplotlib.pyplot as plt\n",
    "import seaborn as sns"
   ]
  },
  {
   "cell_type": "code",
   "execution_count": 12,
   "metadata": {},
   "outputs": [
    {
     "data": {
      "text/html": [
       "<div>\n",
       "<style scoped>\n",
       "    .dataframe tbody tr th:only-of-type {\n",
       "        vertical-align: middle;\n",
       "    }\n",
       "\n",
       "    .dataframe tbody tr th {\n",
       "        vertical-align: top;\n",
       "    }\n",
       "\n",
       "    .dataframe thead th {\n",
       "        text-align: right;\n",
       "    }\n",
       "</style>\n",
       "<table border=\"1\" class=\"dataframe\">\n",
       "  <thead>\n",
       "    <tr style=\"text-align: right;\">\n",
       "      <th></th>\n",
       "      <th>aluminium</th>\n",
       "      <th>ammonia</th>\n",
       "      <th>arsenic</th>\n",
       "      <th>barium</th>\n",
       "      <th>cadmium</th>\n",
       "      <th>chloramine</th>\n",
       "      <th>chromium</th>\n",
       "      <th>copper</th>\n",
       "      <th>flouride</th>\n",
       "      <th>bacteria</th>\n",
       "      <th>...</th>\n",
       "      <th>lead</th>\n",
       "      <th>nitrates</th>\n",
       "      <th>nitrites</th>\n",
       "      <th>mercury</th>\n",
       "      <th>perchlorate</th>\n",
       "      <th>radium</th>\n",
       "      <th>selenium</th>\n",
       "      <th>silver</th>\n",
       "      <th>uranium</th>\n",
       "      <th>is_safe</th>\n",
       "    </tr>\n",
       "  </thead>\n",
       "  <tbody>\n",
       "    <tr>\n",
       "      <th>0</th>\n",
       "      <td>1.65</td>\n",
       "      <td>9.08</td>\n",
       "      <td>0.04</td>\n",
       "      <td>2.85</td>\n",
       "      <td>0.007</td>\n",
       "      <td>0.35</td>\n",
       "      <td>0.83</td>\n",
       "      <td>0.17</td>\n",
       "      <td>0.05</td>\n",
       "      <td>0.20</td>\n",
       "      <td>...</td>\n",
       "      <td>0.054</td>\n",
       "      <td>16.08</td>\n",
       "      <td>1.13</td>\n",
       "      <td>0.007</td>\n",
       "      <td>37.75</td>\n",
       "      <td>6.78</td>\n",
       "      <td>0.08</td>\n",
       "      <td>0.34</td>\n",
       "      <td>0.02</td>\n",
       "      <td>1</td>\n",
       "    </tr>\n",
       "    <tr>\n",
       "      <th>1</th>\n",
       "      <td>2.32</td>\n",
       "      <td>21.16</td>\n",
       "      <td>0.01</td>\n",
       "      <td>3.31</td>\n",
       "      <td>0.002</td>\n",
       "      <td>5.28</td>\n",
       "      <td>0.68</td>\n",
       "      <td>0.66</td>\n",
       "      <td>0.90</td>\n",
       "      <td>0.65</td>\n",
       "      <td>...</td>\n",
       "      <td>0.100</td>\n",
       "      <td>2.01</td>\n",
       "      <td>1.93</td>\n",
       "      <td>0.003</td>\n",
       "      <td>32.26</td>\n",
       "      <td>3.21</td>\n",
       "      <td>0.08</td>\n",
       "      <td>0.27</td>\n",
       "      <td>0.05</td>\n",
       "      <td>1</td>\n",
       "    </tr>\n",
       "    <tr>\n",
       "      <th>2</th>\n",
       "      <td>1.01</td>\n",
       "      <td>14.02</td>\n",
       "      <td>0.04</td>\n",
       "      <td>0.58</td>\n",
       "      <td>0.008</td>\n",
       "      <td>4.24</td>\n",
       "      <td>0.53</td>\n",
       "      <td>0.02</td>\n",
       "      <td>0.99</td>\n",
       "      <td>0.05</td>\n",
       "      <td>...</td>\n",
       "      <td>0.078</td>\n",
       "      <td>14.16</td>\n",
       "      <td>1.11</td>\n",
       "      <td>0.006</td>\n",
       "      <td>50.28</td>\n",
       "      <td>7.07</td>\n",
       "      <td>0.07</td>\n",
       "      <td>0.44</td>\n",
       "      <td>0.01</td>\n",
       "      <td>0</td>\n",
       "    </tr>\n",
       "    <tr>\n",
       "      <th>3</th>\n",
       "      <td>1.36</td>\n",
       "      <td>11.33</td>\n",
       "      <td>0.04</td>\n",
       "      <td>2.96</td>\n",
       "      <td>0.001</td>\n",
       "      <td>7.23</td>\n",
       "      <td>0.03</td>\n",
       "      <td>1.66</td>\n",
       "      <td>1.08</td>\n",
       "      <td>0.71</td>\n",
       "      <td>...</td>\n",
       "      <td>0.016</td>\n",
       "      <td>1.41</td>\n",
       "      <td>1.29</td>\n",
       "      <td>0.004</td>\n",
       "      <td>9.12</td>\n",
       "      <td>1.72</td>\n",
       "      <td>0.02</td>\n",
       "      <td>0.45</td>\n",
       "      <td>0.05</td>\n",
       "      <td>1</td>\n",
       "    </tr>\n",
       "    <tr>\n",
       "      <th>4</th>\n",
       "      <td>0.92</td>\n",
       "      <td>24.33</td>\n",
       "      <td>0.03</td>\n",
       "      <td>0.20</td>\n",
       "      <td>0.006</td>\n",
       "      <td>2.67</td>\n",
       "      <td>0.69</td>\n",
       "      <td>0.57</td>\n",
       "      <td>0.61</td>\n",
       "      <td>0.13</td>\n",
       "      <td>...</td>\n",
       "      <td>0.117</td>\n",
       "      <td>6.74</td>\n",
       "      <td>1.11</td>\n",
       "      <td>0.003</td>\n",
       "      <td>16.90</td>\n",
       "      <td>2.41</td>\n",
       "      <td>0.02</td>\n",
       "      <td>0.06</td>\n",
       "      <td>0.02</td>\n",
       "      <td>1</td>\n",
       "    </tr>\n",
       "  </tbody>\n",
       "</table>\n",
       "<p>5 rows × 21 columns</p>\n",
       "</div>"
      ],
      "text/plain": [
       "   aluminium ammonia  arsenic  barium  cadmium  chloramine  chromium  copper  \\\n",
       "0       1.65    9.08     0.04    2.85    0.007        0.35      0.83    0.17   \n",
       "1       2.32   21.16     0.01    3.31    0.002        5.28      0.68    0.66   \n",
       "2       1.01   14.02     0.04    0.58    0.008        4.24      0.53    0.02   \n",
       "3       1.36   11.33     0.04    2.96    0.001        7.23      0.03    1.66   \n",
       "4       0.92   24.33     0.03    0.20    0.006        2.67      0.69    0.57   \n",
       "\n",
       "   flouride  bacteria  ...   lead  nitrates  nitrites  mercury  perchlorate  \\\n",
       "0      0.05      0.20  ...  0.054     16.08      1.13    0.007        37.75   \n",
       "1      0.90      0.65  ...  0.100      2.01      1.93    0.003        32.26   \n",
       "2      0.99      0.05  ...  0.078     14.16      1.11    0.006        50.28   \n",
       "3      1.08      0.71  ...  0.016      1.41      1.29    0.004         9.12   \n",
       "4      0.61      0.13  ...  0.117      6.74      1.11    0.003        16.90   \n",
       "\n",
       "   radium  selenium  silver  uranium  is_safe  \n",
       "0    6.78      0.08    0.34     0.02        1  \n",
       "1    3.21      0.08    0.27     0.05        1  \n",
       "2    7.07      0.07    0.44     0.01        0  \n",
       "3    1.72      0.02    0.45     0.05        1  \n",
       "4    2.41      0.02    0.06     0.02        1  \n",
       "\n",
       "[5 rows x 21 columns]"
      ]
     },
     "execution_count": 12,
     "metadata": {},
     "output_type": "execute_result"
    }
   ],
   "source": [
    "#read dataframe \n",
    "#data = pd.read_csv(\"/Users/moni/Desktop/UMGC24-25/DATA430/waterQuality1.csv\")\n",
    "data = pd.read_csv(\"./waterQuality1.csv\")\n",
    "data.head(5)\n"
   ]
  },
  {
   "cell_type": "code",
   "execution_count": 42,
   "metadata": {},
   "outputs": [
    {
     "data": {
      "text/plain": [
       "(7999, 21)"
      ]
     },
     "execution_count": 42,
     "metadata": {},
     "output_type": "execute_result"
    }
   ],
   "source": [
    "#read dataframe \n",
    "#data = pd.read_csv(\"/Users/moni/Desktop/UMGC24-25/DATA430/waterQuality1.csv\")\n",
    "data = pd.read_csv(\"./waterQuality1.csv\")\n",
    "data.head(5)"
   ]
  },
  {
   "cell_type": "code",
   "execution_count": 9,
   "metadata": {},
   "outputs": [
    {
     "name": "stdout",
     "output_type": "stream",
     "text": [
      "<class 'pandas.core.frame.DataFrame'>\n",
      "RangeIndex: 7999 entries, 0 to 7998\n",
      "Data columns (total 21 columns):\n",
      " #   Column       Non-Null Count  Dtype  \n",
      "---  ------       --------------  -----  \n",
      " 0   aluminium    7999 non-null   float64\n",
      " 1   ammonia      7999 non-null   object \n",
      " 2   arsenic      7999 non-null   float64\n",
      " 3   barium       7999 non-null   float64\n",
      " 4   cadmium      7999 non-null   float64\n",
      " 5   chloramine   7999 non-null   float64\n",
      " 6   chromium     7999 non-null   float64\n",
      " 7   copper       7999 non-null   float64\n",
      " 8   flouride     7999 non-null   float64\n",
      " 9   bacteria     7999 non-null   float64\n",
      " 10  viruses      7999 non-null   float64\n",
      " 11  lead         7999 non-null   float64\n",
      " 12  nitrates     7999 non-null   float64\n",
      " 13  nitrites     7999 non-null   float64\n",
      " 14  mercury      7999 non-null   float64\n",
      " 15  perchlorate  7999 non-null   float64\n",
      " 16  radium       7999 non-null   float64\n",
      " 17  selenium     7999 non-null   float64\n",
      " 18  silver       7999 non-null   float64\n",
      " 19  uranium      7999 non-null   float64\n",
      " 20  is_safe      7999 non-null   object \n",
      "dtypes: float64(19), object(2)\n",
      "memory usage: 1.3+ MB\n",
      "None\n"
     ]
    }
   ],
   "source": [
    "print(data.info())"
   ]
  },
  {
   "cell_type": "code",
   "execution_count": 10,
   "metadata": {},
   "outputs": [
    {
     "data": {
      "text/html": [
       "<div>\n",
       "<style scoped>\n",
       "    .dataframe tbody tr th:only-of-type {\n",
       "        vertical-align: middle;\n",
       "    }\n",
       "\n",
       "    .dataframe tbody tr th {\n",
       "        vertical-align: top;\n",
       "    }\n",
       "\n",
       "    .dataframe thead th {\n",
       "        text-align: right;\n",
       "    }\n",
       "</style>\n",
       "<table border=\"1\" class=\"dataframe\">\n",
       "  <thead>\n",
       "    <tr style=\"text-align: right;\">\n",
       "      <th></th>\n",
       "      <th>aluminium</th>\n",
       "      <th>arsenic</th>\n",
       "      <th>barium</th>\n",
       "      <th>cadmium</th>\n",
       "      <th>chloramine</th>\n",
       "      <th>chromium</th>\n",
       "      <th>copper</th>\n",
       "      <th>flouride</th>\n",
       "      <th>bacteria</th>\n",
       "      <th>viruses</th>\n",
       "      <th>lead</th>\n",
       "      <th>nitrates</th>\n",
       "      <th>nitrites</th>\n",
       "      <th>mercury</th>\n",
       "      <th>perchlorate</th>\n",
       "      <th>radium</th>\n",
       "      <th>selenium</th>\n",
       "      <th>silver</th>\n",
       "      <th>uranium</th>\n",
       "    </tr>\n",
       "  </thead>\n",
       "  <tbody>\n",
       "    <tr>\n",
       "      <th>count</th>\n",
       "      <td>7999.000000</td>\n",
       "      <td>7999.000000</td>\n",
       "      <td>7999.000000</td>\n",
       "      <td>7999.000000</td>\n",
       "      <td>7999.000000</td>\n",
       "      <td>7999.000000</td>\n",
       "      <td>7999.000000</td>\n",
       "      <td>7999.000000</td>\n",
       "      <td>7999.000000</td>\n",
       "      <td>7999.000000</td>\n",
       "      <td>7999.000000</td>\n",
       "      <td>7999.000000</td>\n",
       "      <td>7999.000000</td>\n",
       "      <td>7999.000000</td>\n",
       "      <td>7999.000000</td>\n",
       "      <td>7999.000000</td>\n",
       "      <td>7999.000000</td>\n",
       "      <td>7999.000000</td>\n",
       "      <td>7999.000000</td>\n",
       "    </tr>\n",
       "    <tr>\n",
       "      <th>mean</th>\n",
       "      <td>0.666158</td>\n",
       "      <td>0.161445</td>\n",
       "      <td>1.567715</td>\n",
       "      <td>0.042806</td>\n",
       "      <td>2.176831</td>\n",
       "      <td>0.247226</td>\n",
       "      <td>0.805857</td>\n",
       "      <td>0.771565</td>\n",
       "      <td>0.319665</td>\n",
       "      <td>0.328583</td>\n",
       "      <td>0.099450</td>\n",
       "      <td>9.818822</td>\n",
       "      <td>1.329961</td>\n",
       "      <td>0.005194</td>\n",
       "      <td>16.460299</td>\n",
       "      <td>2.920548</td>\n",
       "      <td>0.049685</td>\n",
       "      <td>0.147781</td>\n",
       "      <td>0.044673</td>\n",
       "    </tr>\n",
       "    <tr>\n",
       "      <th>std</th>\n",
       "      <td>1.265145</td>\n",
       "      <td>0.252590</td>\n",
       "      <td>1.216091</td>\n",
       "      <td>0.036049</td>\n",
       "      <td>2.567027</td>\n",
       "      <td>0.270640</td>\n",
       "      <td>0.653539</td>\n",
       "      <td>0.435373</td>\n",
       "      <td>0.329485</td>\n",
       "      <td>0.378096</td>\n",
       "      <td>0.058172</td>\n",
       "      <td>5.541331</td>\n",
       "      <td>0.573219</td>\n",
       "      <td>0.002967</td>\n",
       "      <td>17.687474</td>\n",
       "      <td>2.323009</td>\n",
       "      <td>0.028770</td>\n",
       "      <td>0.143551</td>\n",
       "      <td>0.026904</td>\n",
       "    </tr>\n",
       "    <tr>\n",
       "      <th>min</th>\n",
       "      <td>0.000000</td>\n",
       "      <td>0.000000</td>\n",
       "      <td>0.000000</td>\n",
       "      <td>0.000000</td>\n",
       "      <td>0.000000</td>\n",
       "      <td>0.000000</td>\n",
       "      <td>0.000000</td>\n",
       "      <td>0.000000</td>\n",
       "      <td>0.000000</td>\n",
       "      <td>0.000000</td>\n",
       "      <td>0.000000</td>\n",
       "      <td>0.000000</td>\n",
       "      <td>0.000000</td>\n",
       "      <td>0.000000</td>\n",
       "      <td>0.000000</td>\n",
       "      <td>0.000000</td>\n",
       "      <td>0.000000</td>\n",
       "      <td>0.000000</td>\n",
       "      <td>0.000000</td>\n",
       "    </tr>\n",
       "    <tr>\n",
       "      <th>25%</th>\n",
       "      <td>0.040000</td>\n",
       "      <td>0.030000</td>\n",
       "      <td>0.560000</td>\n",
       "      <td>0.008000</td>\n",
       "      <td>0.100000</td>\n",
       "      <td>0.050000</td>\n",
       "      <td>0.090000</td>\n",
       "      <td>0.405000</td>\n",
       "      <td>0.000000</td>\n",
       "      <td>0.002000</td>\n",
       "      <td>0.048000</td>\n",
       "      <td>5.000000</td>\n",
       "      <td>1.000000</td>\n",
       "      <td>0.003000</td>\n",
       "      <td>2.170000</td>\n",
       "      <td>0.820000</td>\n",
       "      <td>0.020000</td>\n",
       "      <td>0.040000</td>\n",
       "      <td>0.020000</td>\n",
       "    </tr>\n",
       "    <tr>\n",
       "      <th>50%</th>\n",
       "      <td>0.070000</td>\n",
       "      <td>0.050000</td>\n",
       "      <td>1.190000</td>\n",
       "      <td>0.040000</td>\n",
       "      <td>0.530000</td>\n",
       "      <td>0.090000</td>\n",
       "      <td>0.750000</td>\n",
       "      <td>0.770000</td>\n",
       "      <td>0.220000</td>\n",
       "      <td>0.008000</td>\n",
       "      <td>0.102000</td>\n",
       "      <td>9.930000</td>\n",
       "      <td>1.420000</td>\n",
       "      <td>0.005000</td>\n",
       "      <td>7.740000</td>\n",
       "      <td>2.410000</td>\n",
       "      <td>0.050000</td>\n",
       "      <td>0.080000</td>\n",
       "      <td>0.050000</td>\n",
       "    </tr>\n",
       "    <tr>\n",
       "      <th>75%</th>\n",
       "      <td>0.280000</td>\n",
       "      <td>0.100000</td>\n",
       "      <td>2.480000</td>\n",
       "      <td>0.070000</td>\n",
       "      <td>4.240000</td>\n",
       "      <td>0.440000</td>\n",
       "      <td>1.390000</td>\n",
       "      <td>1.160000</td>\n",
       "      <td>0.610000</td>\n",
       "      <td>0.700000</td>\n",
       "      <td>0.151000</td>\n",
       "      <td>14.610000</td>\n",
       "      <td>1.760000</td>\n",
       "      <td>0.008000</td>\n",
       "      <td>29.480000</td>\n",
       "      <td>4.670000</td>\n",
       "      <td>0.070000</td>\n",
       "      <td>0.240000</td>\n",
       "      <td>0.070000</td>\n",
       "    </tr>\n",
       "    <tr>\n",
       "      <th>max</th>\n",
       "      <td>5.050000</td>\n",
       "      <td>1.050000</td>\n",
       "      <td>4.940000</td>\n",
       "      <td>0.130000</td>\n",
       "      <td>8.680000</td>\n",
       "      <td>0.900000</td>\n",
       "      <td>2.000000</td>\n",
       "      <td>1.500000</td>\n",
       "      <td>1.000000</td>\n",
       "      <td>1.000000</td>\n",
       "      <td>0.200000</td>\n",
       "      <td>19.830000</td>\n",
       "      <td>2.930000</td>\n",
       "      <td>0.010000</td>\n",
       "      <td>60.010000</td>\n",
       "      <td>7.990000</td>\n",
       "      <td>0.100000</td>\n",
       "      <td>0.500000</td>\n",
       "      <td>0.090000</td>\n",
       "    </tr>\n",
       "  </tbody>\n",
       "</table>\n",
       "</div>"
      ],
      "text/plain": [
       "         aluminium      arsenic       barium      cadmium   chloramine  \\\n",
       "count  7999.000000  7999.000000  7999.000000  7999.000000  7999.000000   \n",
       "mean      0.666158     0.161445     1.567715     0.042806     2.176831   \n",
       "std       1.265145     0.252590     1.216091     0.036049     2.567027   \n",
       "min       0.000000     0.000000     0.000000     0.000000     0.000000   \n",
       "25%       0.040000     0.030000     0.560000     0.008000     0.100000   \n",
       "50%       0.070000     0.050000     1.190000     0.040000     0.530000   \n",
       "75%       0.280000     0.100000     2.480000     0.070000     4.240000   \n",
       "max       5.050000     1.050000     4.940000     0.130000     8.680000   \n",
       "\n",
       "          chromium       copper     flouride     bacteria      viruses  \\\n",
       "count  7999.000000  7999.000000  7999.000000  7999.000000  7999.000000   \n",
       "mean      0.247226     0.805857     0.771565     0.319665     0.328583   \n",
       "std       0.270640     0.653539     0.435373     0.329485     0.378096   \n",
       "min       0.000000     0.000000     0.000000     0.000000     0.000000   \n",
       "25%       0.050000     0.090000     0.405000     0.000000     0.002000   \n",
       "50%       0.090000     0.750000     0.770000     0.220000     0.008000   \n",
       "75%       0.440000     1.390000     1.160000     0.610000     0.700000   \n",
       "max       0.900000     2.000000     1.500000     1.000000     1.000000   \n",
       "\n",
       "              lead     nitrates     nitrites      mercury  perchlorate  \\\n",
       "count  7999.000000  7999.000000  7999.000000  7999.000000  7999.000000   \n",
       "mean      0.099450     9.818822     1.329961     0.005194    16.460299   \n",
       "std       0.058172     5.541331     0.573219     0.002967    17.687474   \n",
       "min       0.000000     0.000000     0.000000     0.000000     0.000000   \n",
       "25%       0.048000     5.000000     1.000000     0.003000     2.170000   \n",
       "50%       0.102000     9.930000     1.420000     0.005000     7.740000   \n",
       "75%       0.151000    14.610000     1.760000     0.008000    29.480000   \n",
       "max       0.200000    19.830000     2.930000     0.010000    60.010000   \n",
       "\n",
       "            radium     selenium       silver      uranium  \n",
       "count  7999.000000  7999.000000  7999.000000  7999.000000  \n",
       "mean      2.920548     0.049685     0.147781     0.044673  \n",
       "std       2.323009     0.028770     0.143551     0.026904  \n",
       "min       0.000000     0.000000     0.000000     0.000000  \n",
       "25%       0.820000     0.020000     0.040000     0.020000  \n",
       "50%       2.410000     0.050000     0.080000     0.050000  \n",
       "75%       4.670000     0.070000     0.240000     0.070000  \n",
       "max       7.990000     0.100000     0.500000     0.090000  "
      ]
     },
     "execution_count": 10,
     "metadata": {},
     "output_type": "execute_result"
    }
   ],
   "source": [
    "data.describe()"
   ]
  },
  {
   "cell_type": "code",
   "execution_count": 14,
   "metadata": {},
   "outputs": [
    {
     "data": {
      "text/plain": [
       "<Axes: xlabel='bacteria'>"
      ]
     },
     "execution_count": 14,
     "metadata": {},
     "output_type": "execute_result"
    },
    {
     "data": {
      "image/png": "[encoded data removed]",
      "text/plain": [
       "<Figure size 640x480 with 1 Axes>"
      ]
     },
     "metadata": {},
     "output_type": "display_data"
    }
   ],
   "source": [
    "sns.boxplot(x=data[\"bacteria\"])"
   ]
  },
  {
   "cell_type": "code",
   "execution_count": 15,
   "metadata": {},
   "outputs": [
    {
     "data": {
      "text/plain": [
       "<Axes: xlabel='bacteria', ylabel='is_safe'>"
      ]
     },
     "execution_count": 15,
     "metadata": {},
     "output_type": "execute_result"
    },
    {
     "data": {
      "image/png": "[encoded data removed]",
      "text/plain": [
       "<Figure size 640x480 with 1 Axes>"
      ]
     },
     "metadata": {},
     "output_type": "display_data"
    }
   ],
   "source": [
    "sns.boxplot(data=data ,x=\"bacteria\",y=\"is_safe\" )"
   ]
  },
  {
   "cell_type": "code",
   "execution_count": 37,
   "metadata": {},
   "outputs": [
    {
     "data": {
      "image/png": "[encoded data removed]",
      "text/plain": [
       "<Figure size 500x500 with 1 Axes>"
      ]
     },
     "metadata": {},
     "output_type": "display_data"
    }
   ],
   "source": [
    "sns.displot(data['bacteria'])\n",
    "plt.show()"
   ]
  },
  {
   "cell_type": "code",
   "execution_count": 44,
   "metadata": {},
   "outputs": [
    {
     "data": {
      "image/png": "[encoded data removed]",
      "text/plain": [
       "<Figure size 500x500 with 1 Axes>"
      ]
     },
     "metadata": {},
     "output_type": "display_data"
    }
   ],
   "source": [
    "sns.displot(data['silver'])\n",
    "plt.show()"
   ]
  },
  {
   "cell_type": "code",
   "execution_count": 43,
   "metadata": {},
   "outputs": [
    {
     "data": {
      "image/png": "[encoded data removed]",
      "text/plain": [
       "<Figure size 500x500 with 1 Axes>"
      ]
     },
     "metadata": {},
     "output_type": "display_data"
    }
   ],
   "source": [
    "sns.displot(data['radium'])\n",
    "plt.show()"
   ]
  },
  {
   "cell_type": "code",
   "execution_count": 38,
   "metadata": {},
   "outputs": [
    {
     "data": {
      "image/png": "[encoded data removed]",
      "text/plain": [
       "<Figure size 500x500 with 1 Axes>"
      ]
     },
     "metadata": {},
     "output_type": "display_data"
    }
   ],
   "source": [
    "sns.displot(data['viruses'])\n",
    "plt.show()"
   ]
  },
  {
   "cell_type": "code",
   "execution_count": 39,
   "metadata": {},
   "outputs": [
    {
     "data": {
      "image/png": "[encoded data removed]",
      "text/plain": [
       "<Figure size 500x500 with 1 Axes>"
      ]
     },
     "metadata": {},
     "output_type": "display_data"
    }
   ],
   "source": [
    "sns.displot(data['is_safe'])\n",
    "plt.show()"
   ]
  }
 ],
 "metadata": {
  "kernelspec": {
   "display_name": "Python 3",
   "language": "python",
   "name": "python3"
  },
  "language_info": {
   "codemirror_mode": {
    "name": "ipython",
    "version": 3
   },
   "file_extension": ".py",
   "mimetype": "text/x-python",
   "name": "python",
   "nbconvert_exporter": "python",
   "pygments_lexer": "ipython3",
   "version": "3.12.2"
  }
 },
 "nbformat": 4,
 "nbformat_minor": 2
}
